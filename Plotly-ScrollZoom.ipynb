{
 "cells": [
  {
   "cell_type": "markdown",
   "metadata": {},
   "source": [
    "# Plotly Scroll-Zoom thourgh `ipyevents`\n",
    "In following example mouse-scroll is zooming in and out the _Plotly_ chart. It is not as effective as native zoom, but it gets the job done. Code is broken down into steps for you to easy change/modify/customize it to solve your particular challenge."
   ]
  },
  {
   "cell_type": "markdown",
   "metadata": {},
   "source": [
    "## Simple Example\n",
    "For the simplicity of understanding we are going to only zoom on X axis with right-most point fixed, so:\n",
    "- right-most point of the cart is fixed\n",
    "- left-most point is changing depending on mouse wheel movement\n",
    "- we're only zooming x axis"
   ]
  },
  {
   "cell_type": "markdown",
   "metadata": {},
   "source": [
    "### get some data (use yours), but...  \n",
    "\n",
    "NOTE: In following examples X axis data is of `integer` type. If you deal with time, date, or any other - perform respective conversions."
   ]
  },
  {
   "cell_type": "code",
   "execution_count": 60,
   "metadata": {},
   "outputs": [],
   "source": [
    "import plotly.express as px\n",
    "df = px.data.iris()"
   ]
  },
  {
   "cell_type": "markdown",
   "metadata": {},
   "source": [
    "### plot the data"
   ]
  },
  {
   "cell_type": "code",
   "execution_count": 61,
   "metadata": {},
   "outputs": [],
   "source": [
    "import plotly.graph_objects as go"
   ]
  },
  {
   "cell_type": "code",
   "execution_count": 62,
   "metadata": {},
   "outputs": [
    {
     "data": {
      "application/vnd.jupyter.widget-view+json": {
       "model_id": "46e6288fbbdc41e9bfab2008c8702ae4",
       "version_major": 2,
       "version_minor": 0
      },
      "text/plain": [
       "FigureWidget({\n",
       "    'data': [{'type': 'scatter',\n",
       "              'uid': '519cce7e-a330-473d-af7a-f7529dc18ef9',\n",
       " …"
      ]
     },
     "metadata": {},
     "output_type": "display_data"
    }
   ],
   "source": [
    "fig = go.FigureWidget(data=go.Scatter(\n",
    "    x=df.index, \n",
    "    y=df['sepal_length']))\n",
    "\n",
    "fig"
   ]
  },
  {
   "cell_type": "markdown",
   "metadata": {},
   "source": [
    "### `fig.layout.xaxis.range`"
   ]
  },
  {
   "cell_type": "code",
   "execution_count": 74,
   "metadata": {},
   "outputs": [
    {
     "data": {
      "text/plain": [
       "(14, 149)"
      ]
     },
     "execution_count": 74,
     "metadata": {},
     "output_type": "execute_result"
    }
   ],
   "source": [
    "fig.layout.xaxis.range"
   ]
  },
  {
   "cell_type": "markdown",
   "metadata": {},
   "source": [
    "Tupple of indexes of left and right most points of the chart. This defines the view range. You can manualy set it by passing desired tupple. This is what we are going to change with scroll mouse event in next step."
   ]
  },
  {
   "cell_type": "markdown",
   "metadata": {},
   "source": [
    "### adding mouse scroll support by `ipyevents`\n",
    "You can use any type of keyboard and mouse events on any widget.  \n",
    "_**ipyevents**_: https://github.com/mwcraig/ipyevents  \n",
    "Events list: https://developer.mozilla.org/en-US/docs/Web/Events"
   ]
  },
  {
   "cell_type": "markdown",
   "metadata": {},
   "source": [
    "Install with conda if not installed:  \n",
    "`conda install -c conda-forge ipyevents`"
   ]
  },
  {
   "cell_type": "code",
   "execution_count": 64,
   "metadata": {},
   "outputs": [],
   "source": [
    "import ipyevents"
   ]
  },
  {
   "cell_type": "markdown",
   "metadata": {},
   "source": [
    "Border conditions:"
   ]
  },
  {
   "cell_type": "code",
   "execution_count": 65,
   "metadata": {},
   "outputs": [],
   "source": [
    "xaxis_min_range=40\n",
    "# (optional) ...so you cannot zoom-in to one data point, use your taste for UX\n",
    "\n",
    "xaxis_left_limit=0\n",
    "# (optional) ...so you cannot zoom-out into negative (there is no data there)"
   ]
  },
  {
   "cell_type": "markdown",
   "metadata": {},
   "source": [
    "Function to be called when mouse scroll is detected:"
   ]
  },
  {
   "cell_type": "code",
   "execution_count": 69,
   "metadata": {},
   "outputs": [],
   "source": [
    "# triggered function when mouse wheel event happens\n",
    "def handle_event(event):\n",
    "    \n",
    "    # index of left-most point of the current state of the chart\n",
    "    xaxis_left=fig.layout.xaxis.range[0]\n",
    "    \n",
    "    # index of right-most point of the current state of the chart\n",
    "    xaxis_right=fig.layout.xaxis.range[1]\n",
    "    \n",
    "    # setting new value by adding 'wheel movemnt`\n",
    "    new_xaxis_left=xaxis_left+int(event['deltaY'])\n",
    "    \n",
    "    # respecting border conditions...\n",
    "    if (xaxis_right-new_xaxis_left)>xaxis_min_range \\\n",
    "    and new_xaxis_left>xaxis_left_limit:\n",
    "    \n",
    "        # passing new 'zoomed' range to the chart\n",
    "        fig.layout.xaxis.range=(new_xaxis_left,xaxis_right) if xaxis_left>=0 else 0"
   ]
  },
  {
   "cell_type": "markdown",
   "metadata": {},
   "source": [
    "Widget Event handler:"
   ]
  },
  {
   "cell_type": "code",
   "execution_count": 76,
   "metadata": {},
   "outputs": [],
   "source": [
    "# listening to mouse events while mouse on top of widget named `fig` \n",
    "Event(source=fig, watched_events=['wheel']).on_dom_event(handle_event)"
   ]
  },
  {
   "cell_type": "markdown",
   "metadata": {},
   "source": [
    "(OPTIONAL) change default mouse behaviour to `pan`, instead of _\"starnge\"_ Plotly zoom behaviour."
   ]
  },
  {
   "cell_type": "code",
   "execution_count": null,
   "metadata": {},
   "outputs": [],
   "source": [
    "fig.layout.dragmode='pan'"
   ]
  },
  {
   "cell_type": "markdown",
   "metadata": {},
   "source": [
    "See how it works..."
   ]
  },
  {
   "cell_type": "code",
   "execution_count": 71,
   "metadata": {},
   "outputs": [
    {
     "data": {
      "application/vnd.jupyter.widget-view+json": {
       "model_id": "46e6288fbbdc41e9bfab2008c8702ae4",
       "version_major": 2,
       "version_minor": 0
      },
      "text/plain": [
       "FigureWidget({\n",
       "    'data': [{'type': 'scatter',\n",
       "              'uid': '519cce7e-a330-473d-af7a-f7529dc18ef9',\n",
       " …"
      ]
     },
     "metadata": {},
     "output_type": "display_data"
    }
   ],
   "source": [
    "fig"
   ]
  },
  {
   "cell_type": "markdown",
   "metadata": {},
   "source": [
    "To sum-up:  \n",
    "\n",
    "We are only wathcing for mouse events of `wheel` type in `Event` handler. In the function being called by event handler `handle_event()` we are only interested in `deltaY` key. `deltaY` is converted into integer type and simply added to left-most index `xaxis_left` of current chart. If border conditions are met - new tupple (with new left `new_xaxis_left` and old right `xaxis_right` value) is passed to the chart as `fig.layout.xaxis.range`."
   ]
  }
 ],
 "metadata": {
  "kernelspec": {
   "display_name": "Python 3",
   "language": "python",
   "name": "python3"
  },
  "language_info": {
   "codemirror_mode": {
    "name": "ipython",
    "version": 3
   },
   "file_extension": ".py",
   "mimetype": "text/x-python",
   "name": "python",
   "nbconvert_exporter": "python",
   "pygments_lexer": "ipython3",
   "version": "3.6.7"
  }
 },
 "nbformat": 4,
 "nbformat_minor": 4
}
